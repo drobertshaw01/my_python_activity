{
 "cells": [
  {
   "cell_type": "code",
   "execution_count": 1,
   "id": "e484e4b7",
   "metadata": {},
   "outputs": [
    {
     "name": "stdout",
     "output_type": "stream",
     "text": [
      "my name is David\n",
      "the date is June 3rd 2022\n"
     ]
    }
   ],
   "source": [
    "# this is my first line of code\n",
    "\n",
    "print(\"my name is David\")\n",
    "print(\"the date is June 3rd 2022\")"
   ]
  },
  {
   "cell_type": "code",
   "execution_count": 2,
   "id": "b42a5a0d",
   "metadata": {},
   "outputs": [],
   "source": [
    "# Write a program to analyse real estate data\n",
    "\n",
    "# create variables - sales price by property for December\n",
    "a = 45000\n",
    "b = 23400\n",
    "c = 67000\n",
    "d = 34600\n",
    "e = 12900"
   ]
  },
  {
   "cell_type": "code",
   "execution_count": 4,
   "id": "2adf3203",
   "metadata": {},
   "outputs": [
    {
     "name": "stdout",
     "output_type": "stream",
     "text": [
      "182900\n"
     ]
    }
   ],
   "source": [
    "# total sales for December\n",
    "total_sales = (a + b + c + d + e)\n",
    "print(total_sales)"
   ]
  },
  {
   "cell_type": "code",
   "execution_count": 5,
   "id": "31b1f430",
   "metadata": {},
   "outputs": [
    {
     "name": "stdout",
     "output_type": "stream",
     "text": [
      "30483.333333333332\n"
     ]
    }
   ],
   "source": [
    "# average sales for December\n",
    "print(total_sales/6)"
   ]
  },
  {
   "cell_type": "code",
   "execution_count": 6,
   "id": "a86a74ef",
   "metadata": {},
   "outputs": [
    {
     "name": "stdout",
     "output_type": "stream",
     "text": [
      "60500\n"
     ]
    }
   ],
   "source": [
    "# cal property price for C\n",
    "print(c - 6500)"
   ]
  },
  {
   "cell_type": "code",
   "execution_count": null,
   "id": "2a0866ff",
   "metadata": {},
   "outputs": [],
   "source": []
  }
 ],
 "metadata": {
  "kernelspec": {
   "display_name": "Python 3 (ipykernel)",
   "language": "python",
   "name": "python3"
  },
  "language_info": {
   "codemirror_mode": {
    "name": "ipython",
    "version": 3
   },
   "file_extension": ".py",
   "mimetype": "text/x-python",
   "name": "python",
   "nbconvert_exporter": "python",
   "pygments_lexer": "ipython3",
   "version": "3.9.7"
  }
 },
 "nbformat": 4,
 "nbformat_minor": 5
}
